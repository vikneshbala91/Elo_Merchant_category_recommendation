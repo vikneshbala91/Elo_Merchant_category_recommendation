{
 "cells": [
  {
   "cell_type": "code",
   "execution_count": 4,
   "metadata": {},
   "outputs": [],
   "source": [
    "import pandas as pd\n",
    "import numpy as np\n",
    "import os\n",
    "import matplotlib.pyplot as plt\n",
    "from sklearn.preprocessing import LabelEncoder\n",
    "from sklearn.cluster import KMeans\n",
    "from datetime import timedelta\n",
    "from sklearn import model_selection, preprocessing, metrics\n",
    "import lightgbm as lgb"
   ]
  },
  {
   "cell_type": "code",
   "execution_count": null,
   "metadata": {},
   "outputs": [],
   "source": [
    "train_df = pd.read_csv('data/train.csv')\n",
    "test_df = pd.read_csv('data/test.csv')\n",
    "hist_txns_cols = ['card_id','month_lag','purchase_date','authorized_flag','installments','purchase_amount','merchant_id']\n",
    "hist_txns = pd.read_csv('data/historical_transactions.csv',usecols=hist_txns_cols)\n",
    "merchant = pd.read_csv('data/merchants.csv')\n",
    "merchant_txns_cols = ['card_id','month_lag','purchase_date','authorized_flag','installments','purchase_amount','merchant_id']\n",
    "merchant_txns = pd.read_csv('data/new_merchant_transactions.csv',usecols=merchant_txns_cols)"
   ]
  },
  {
   "cell_type": "code",
   "execution_count": null,
   "metadata": {},
   "outputs": [],
   "source": [
    "# convertitng to str\n",
    "hist_txns['installments'] = hist_txns['installments'].astype(str).replace('-1','0').replace('999','0')\n",
    "merchant_txns['installments'] = merchant_txns['installments'].astype(str).replace('-1','0').replace('999','0')"
   ]
  },
  {
   "cell_type": "code",
   "execution_count": null,
   "metadata": {},
   "outputs": [],
   "source": [
    "mer = merchant\n",
    "le = LabelEncoder()\n",
    "mer['merchant_group_id'] = le.fit_transform(merchant['merchant_group_id'])\n",
    "le = LabelEncoder()\n",
    "mer['merchant_category_id'] = le.fit_transform(merchant['merchant_category_id'])\n",
    "le = LabelEncoder()\n",
    "mer['subsector_id'] = le.fit_transform(merchant['subsector_id'])\n",
    "le = LabelEncoder()\n",
    "mer['category_1'] = le.fit_transform(merchant['category_1'])\n",
    "le = LabelEncoder()\n",
    "mer['most_recent_sales_range'] = le.fit_transform(merchant['most_recent_sales_range'])\n",
    "le = LabelEncoder()\n",
    "mer['most_recent_purchases_range'] = le.fit_transform(merchant['most_recent_purchases_range'])\n",
    "le = LabelEncoder()\n",
    "mer['category_4'] = le.fit_transform(merchant['category_4'])\n",
    "le = LabelEncoder()\n",
    "mer['city_id'] = le.fit_transform(merchant['city_id'])\n",
    "le = LabelEncoder()\n",
    "mer['state_id'] = le.fit_transform(merchant['state_id'])\n",
    "le = LabelEncoder()\n",
    "mer['category_2'] = le.fit_transform(merchant['category_2'])\n",
    "mer = mer.fillna(0)\n",
    "mer = mer.replace(np.inf, 0)\n",
    "mer_x =  mer.drop(columns = 'merchant_id')"
   ]
  },
  {
   "cell_type": "code",
   "execution_count": null,
   "metadata": {},
   "outputs": [],
   "source": [
    "kmeans = KMeans(n_clusters=5, random_state=0).fit(mer_x)\n",
    "kmeans.labels_.shape"
   ]
  },
  {
   "cell_type": "code",
   "execution_count": null,
   "metadata": {},
   "outputs": [],
   "source": [
    "mer_cluster = pd.DataFrame(columns=['merchant_id', 'merchant_cluster'])\n",
    "mer_cluster['merchant_id'] = merchant['merchant_id']\n",
    "mer_cluster['merchant_cluster'] = kmeans.labels_.tolist()\n",
    "mer_cluster['merchant_cluster'] = mer_cluster['merchant_cluster'].astype(str).apply(lambda x: x.split('.')[0])"
   ]
  },
  {
   "cell_type": "code",
   "execution_count": null,
   "metadata": {},
   "outputs": [],
   "source": [
    "del merchant\n",
    "del mer\n",
    "del mer_x\n",
    "del le "
   ]
  },
  {
   "cell_type": "code",
   "execution_count": null,
   "metadata": {},
   "outputs": [],
   "source": [
    "merchant_txns = merchant_txns.merge(mer_cluster,how='left',on='merchant_id')\n",
    "hist_txns = hist_txns.merge(mer_cluster,how='left',on='merchant_id')\n",
    "hist_txns.drop(columns=['merchant_id','month_lag'],inplace=True)\n",
    "merchant_txns.drop(columns=['merchant_id','month_lag'],inplace=True)"
   ]
  },
  {
   "cell_type": "code",
   "execution_count": null,
   "metadata": {},
   "outputs": [],
   "source": [
    "merchant_txns['merchant_cluster']=merchant_txns['merchant_cluster'].fillna('6')"
   ]
  },
  {
   "cell_type": "code",
   "execution_count": null,
   "metadata": {},
   "outputs": [],
   "source": [
    "merchant_txns = pd.DataFrame(merchant_txns.groupby('card_id').apply(np.array).reset_index())\n",
    "merchant_txns.rename(columns={0: \"merchant_grouped\"},inplace=True)"
   ]
  },
  {
   "cell_type": "code",
   "execution_count": null,
   "metadata": {},
   "outputs": [],
   "source": [
    "hist_txns = pd.DataFrame(hist_txns.groupby('card_id').apply(np.array).reset_index())\n",
    "hist_txns.rename(columns={0: \"hist_grouped\"},inplace=True)"
   ]
  },
  {
   "cell_type": "code",
   "execution_count": null,
   "metadata": {},
   "outputs": [],
   "source": [
    "train_df['first_year'] = train_df['first_active_month'].astype(str).apply(lambda x: x.split('-')[0])\n",
    "train_df['first_month'] = train_df['first_active_month'].astype(str).apply(lambda x: x.split('-')[1])\n",
    "test_df.loc[test_df['first_active_month'].isnull(),'first_active_month']='2017-12'\n",
    "test_df['first_year'] = test_df['first_active_month'].astype(str).apply(lambda x: x.split('-')[0])\n",
    "test_df['first_month'] = test_df['first_active_month'].astype(str).apply(lambda x: x.split('-')[1])\n",
    "train_df.drop(columns='first_active_month',inplace=True)\n",
    "test_df.drop(columns='first_active_month',inplace=True)"
   ]
  },
  {
   "cell_type": "code",
   "execution_count": null,
   "metadata": {},
   "outputs": [],
   "source": [
    "train_df = train_df.merge(hist_txns,how='left',on='card_id')\n",
    "train_df = train_df.merge(merchant_txns,how='left',on='card_id')\n",
    "join_train_df = train_df.merge(merchant_txns,how='inner',on='card_id')"
   ]
  },
  {
   "cell_type": "code",
   "execution_count": null,
   "metadata": {},
   "outputs": [],
   "source": [
    "test_df = test_df.merge(hist_txns,how='left',on='card_id')\n",
    "test_df = test_df.merge(merchant_txns,how='left',on='card_id')\n",
    "join_test_df = test_df.merge(merchant_txns,how='inner',on='card_id')"
   ]
  },
  {
   "cell_type": "code",
   "execution_count": null,
   "metadata": {},
   "outputs": [],
   "source": [
    "del hist_txns\n",
    "del merchant_txns"
   ]
  },
  {
   "cell_type": "code",
   "execution_count": null,
   "metadata": {},
   "outputs": [],
   "source": [
    "txn_header = ['authorized_flag', 'card_id', 'installments', 'purchase_amount','purchase_date','merchant_cluster']"
   ]
  },
  {
   "cell_type": "code",
   "execution_count": null,
   "metadata": {},
   "outputs": [],
   "source": [
    "def make_pd_transactions_dataframe(rows, header):\n",
    "    return pd.DataFrame({header[i]: [row[i] for row in rows] for i in range(len(header))})\n",
    "\n",
    "def get_pandas_transactions_dataframe(transaction_rows):\n",
    "    transaction_df = make_pd_transactions_dataframe(transaction_rows, txn_header)\n",
    "    transaction_df['purchase_date'] = pd.to_datetime(transaction_df['purchase_date'].apply(lambda x:x.split(' ')[0]), format=\"%Y-%m-%d\") \n",
    "    return transaction_df\n",
    "\n",
    "def filter_by_date(alert_date, transaction_df, filter_value):\n",
    "    end_date = alert_date - timedelta(filter_value)\n",
    "    data = transaction_df[(transaction_df['purchase_date'] <= alert_date) & (transaction_df['purchase_date'] > end_date)]\n",
    "    return data\n",
    "def filter_by_flag(transaction_df, filter_value):\n",
    "    return transaction_df[transaction_df['authorized_flag']==filter_value]\n",
    "\n",
    "def filter_by_install(transaction_df, filter_value):\n",
    "    return transaction_df[transaction_df['installments'].isin(filter_value)]\n",
    "\n",
    "def filter_by_cluster(transaction_df, filter_value):\n",
    "    return transaction_df[transaction_df['merchant_cluster']==filter_value]"
   ]
  },
  {
   "cell_type": "code",
   "execution_count": null,
   "metadata": {},
   "outputs": [],
   "source": [
    "def compute(grouped_rows,date=None, filter=None, filter_value=None):\n",
    "    df = get_pandas_transactions_dataframe(grouped_rows)\n",
    "    if df is not None:\n",
    "        if filter == 'date':\n",
    "            filter_df = filter_by_date(date,df, filter_value)\n",
    "        if filter == 'flag':\n",
    "            filter_df = filter_by_flag(df, filter_value)\n",
    "        if filter == 'install':\n",
    "            filter_df = filter_by_install(df, filter_value)\n",
    "        if filter =='cluster':\n",
    "            filter_df = filter_by_cluster(df, filter_value)\n",
    "        if len(filter_df) == 0:\n",
    "            sum_out = 0\n",
    "            avg_out = 0\n",
    "            count_out = 0\n",
    "        else:\n",
    "            sum_out = filter_df['purchase_amount'].sum()\n",
    "            avg_out = filter_df['purchase_amount'].mean()\n",
    "            count_out = len(filter_df)\n",
    "        return sum_out, avg_out, count_out\n",
    "    else: return 0,0,0"
   ]
  },
  {
   "cell_type": "code",
   "execution_count": null,
   "metadata": {},
   "outputs": [],
   "source": [
    "hist_date = pd.to_datetime('2018-02-28', format=\"%Y-%m-%d\")\n",
    "merch_date = pd.to_datetime('2018-04-30', format=\"%Y-%m-%d\")"
   ]
  },
  {
   "cell_type": "code",
   "execution_count": null,
   "metadata": {},
   "outputs": [],
   "source": [
    "train_df['30day_sum'], train_df['30day_avg'], train_df['30day_count']= zip(*train_df.apply(lambda x: compute(x['merchant_grouped'],date= merch_date, filter='date',\n",
    "                                                     filter_value=30), axis=1))\n",
    "train_df['60day_sum'], train_df['60day_avg'], train_df['60day_count']= zip(*train_df.apply(lambda x: compute(x['merchant_grouped'],date= merch_date, filter='date',\n",
    "                                                     filter_value=60), axis=1))\n",
    "train_df['90day_sum'], train_df['90day_avg'], train_df['90day_count']= zip(*train_df.apply(lambda x: compute(x['merchant_grouped'],date= merch_date, filter='date',\n",
    "                                                     filter_value=90), axis=1))\n",
    "train_df['180day_sum'], train_df['180day_avg'], train_df['180day_count']= zip(*train_df.apply(lambda x: compute(x['merchant_grouped'],date= merch_date, filter='date',\n",
    "                                                     filter_value=180), axis=1))\n",
    "train_df['>360day_sum'], train_df['>360day_avg'], train_df['>360day_count']= zip(*train_df.apply(lambda x: compute(x['merchant_grouped'],date= merch_date, filter='date',\n",
    "                                                     filter_value=500), axis=1))\n",
    "train_df['authY_sum'],train_df['authY_avg'],train_df['authY_count'] = zip(*train_df.apply(lambda x: compute(x['merchant_grouped'], filter='flag', filter_value='Y'), axis=1))\n",
    "train_df['authN_sum'],train_df['authN_avg'],train_df['authN_count'] = zip(*train_df.apply(lambda x: compute(x['merchant_grouped'], filter='flag', filter_value='N'), axis=1))\n",
    "train_df['zero_install_sum'],train_df['zero_install_avg'],train_df['zero_install_count'] = zip(*train_df.apply(lambda x: compute(x['merchant_grouped'], filter='install', filter_value=['0']), axis=1))\n",
    "train_df['low_intall_sum'],train_df['low_intall_avg'],train_df['low_intall_count'] = zip(*train_df.apply(lambda x: compute(x['merchant_grouped'], filter='install', filter_value=['1','2','3']), axis=1))\n",
    "train_df['med_intall_sum'],train_df['med_intall_avg'],train_df['med_intall_count'] = zip(*train_df.apply(lambda x: compute(x['merchant_grouped'], filter='install', filter_value=['4','5','6']), axis=1))\n",
    "train_df['high_intall_sum'],train_df['high_intall_avg'],train_df['high_intall_count'] = zip(*train_df.apply(lambda x: compute(x['merchant_grouped'], filter='install', filter_value=['7','8','9']), axis=1))\n",
    "train_df['vhigh_intall_sum'],train_df['vhigh_intall_avg'],train_df['vhigh_intall_count'] = zip(*train_df.apply(lambda x: compute(x['merchant_grouped'], filter='install', filter_value=['10','11','12']), axis=1))\n",
    "train_df['cluster0_sum'],train_df['cluster0_avg'],train_df['cluster0_count'] = zip(*train_df.apply(lambda x: compute(x['merchant_grouped'], filter='cluster', filter_value='0'), axis=1))\n",
    "train_df['cluster1_sum'],train_df['cluster1_avg'],train_df['cluster1_count'] = zip(*train_df.apply(lambda x: compute(x['merchant_grouped'], filter='cluster', filter_value='1'), axis=1))\n",
    "train_df['cluster2_sum'],train_df['cluster2_avg'],train_df['cluster2_count'] = zip(*train_df.apply(lambda x: compute(x['merchant_grouped'], filter='cluster', filter_value='2'), axis=1))\n",
    "train_df['cluster3_sum'],train_df['cluster3_avg'],train_df['cluster3_count'] = zip(*train_df.apply(lambda x: compute(x['merchant_grouped'], filter='cluster', filter_value='3'), axis=1))\n",
    "train_df['cluster4_sum'],train_df['cluster4_avg'],train_df['cluster4_count'] = zip(*train_df.apply(lambda x: compute(x['merchant_grouped'], filter='cluster', filter_value='4'), axis=1))"
   ]
  },
  {
   "cell_type": "code",
   "execution_count": null,
   "metadata": {},
   "outputs": [],
   "source": [
    "test_df['30day_sum'], test_df['30day_avg'], test_df['30day_count']= zip(*test_df.apply(lambda x: compute(x['merchant_grouped'],date= merch_date, filter='date',\n",
    "                                                     filter_value=30), axis=1))\n",
    "test_df['60day_sum'], test_df['60day_avg'], test_df['60day_count']= zip(*test_df.apply(lambda x: compute(x['merchant_grouped'],date= merch_date, filter='date',\n",
    "                                                     filter_value=60), axis=1))\n",
    "test_df['90day_sum'], test_df['90day_avg'], test_df['90day_count']= zip(*test_df.apply(lambda x: compute(x['merchant_grouped'],date= merch_date, filter='date',\n",
    "                                                     filter_value=90), axis=1))\n",
    "test_df['180day_sum'], test_df['180day_avg'], test_df['180day_count']= zip(*test_df.apply(lambda x: compute(x['merchant_grouped'],date= merch_date, filter='date',\n",
    "                                                     filter_value=180), axis=1))\n",
    "test_df['>360day_sum'], test_df['>360day_avg'], test_df['>360day_count']= zip(*test_df.apply(lambda x: compute(x['merchant_grouped'],date= merch_date, filter='date',\n",
    "                                                     filter_value=500), axis=1))\n",
    "test_df['authY_sum'],test_df['authY_avg'],test_df['authY_count'] = zip(*test_df.apply(lambda x: compute(x['merchant_grouped'], filter='flag', filter_value='Y'), axis=1))\n",
    "test_df['authN_sum'],test_df['authN_avg'],test_df['authN_count'] = zip(*test_df.apply(lambda x: compute(x['merchant_grouped'], filter='flag', filter_value='N'), axis=1))\n",
    "test_df['zero_install_sum'],test_df['zero_install_avg'],test_df['zero_install_count'] = zip(*test_df.apply(lambda x: compute(x['merchant_grouped'], filter='install', filter_value=['0']), axis=1))\n",
    "test_df['low_intall_sum'],test_df['low_intall_avg'],test_df['low_intall_count'] = zip(*test_df.apply(lambda x: compute(x['merchant_grouped'], filter='install', filter_value=['1','2','3']), axis=1))\n",
    "test_df['med_intall_sum'],test_df['med_intall_avg'],test_df['med_intall_count'] = zip(*test_df.apply(lambda x: compute(x['merchant_grouped'], filter='install', filter_value=['4','5','6']), axis=1))\n",
    "test_df['high_intall_sum'],test_df['high_intall_avg'],test_df['high_intall_count'] = zip(*test_df.apply(lambda x: compute(x['merchant_grouped'], filter='install', filter_value=['7','8','9']), axis=1))\n",
    "test_df['vhigh_intall_sum'],test_df['vhigh_intall_avg'],test_df['vhigh_intall_count'] = zip(*test_df.apply(lambda x: compute(x['merchant_grouped'], filter='install', filter_value=['10','11','12']), axis=1))\n",
    "test_df['cluster0_sum'],test_df['cluster0_avg'],test_df['cluster0_count'] = zip(*test_df.apply(lambda x: compute(x['merchant_grouped'], filter='cluster', filter_value='0'), axis=1))\n",
    "test_df['cluster1_sum'],test_df['cluster1_avg'],test_df['cluster1_count'] = zip(*test_df.apply(lambda x: compute(x['merchant_grouped'], filter='cluster', filter_value='1'), axis=1))\n",
    "test_df['cluster2_sum'],test_df['cluster2_avg'],test_df['cluster2_count'] = zip(*test_df.apply(lambda x: compute(x['merchant_grouped'], filter='cluster', filter_value='2'), axis=1))\n",
    "test_df['cluster3_sum'],test_df['cluster3_avg'],test_df['cluster3_count'] = zip(*test_df.apply(lambda x: compute(x['merchant_grouped'], filter='cluster', filter_value='3'), axis=1))\n",
    "test_df['cluster4_sum'],test_df['cluster4_avg'],test_df['cluster4_count'] = zip(*test_df.apply(lambda x: compute(x['merchant_grouped'], filter='cluster', filter_value='4'), axis=1))"
   ]
  },
  {
   "cell_type": "code",
   "execution_count": null,
   "metadata": {},
   "outputs": [],
   "source": [
    "join_train_df['m_30day_sum'], join_train_df['m_30day_avg'], join_train_df['m_30day_count']= zip(*join_train_df.apply(lambda x: compute(x['merchant_grouped'],date= merch_date, filter='date',\n",
    "                                                     filter_value=30), axis=1))\n",
    "join_train_df['m_60day_sum'], join_train_df['m_60day_avg'], join_train_df['m_60day_count']= zip(*join_train_df.apply(lambda x: compute(x['merchant_grouped'],date= merch_date, filter='date',\n",
    "                                                     filter_value=60), axis=1))\n",
    "join_train_df['m_90day_sum'], join_train_df['m_90day_avg'], join_train_df['m_90day_count']= zip(*join_train_df.apply(lambda x: compute(x['merchant_grouped'],date= merch_date, filter='date',\n",
    "                                                     filter_value=90), axis=1))\n",
    "join_train_df['m_180day_sum'], join_train_df['m_180day_avg'], join_train_df['m_180day_count']= zip(*join_train_df.apply(lambda x: compute(x['merchant_grouped'],date= merch_date, filter='date',\n",
    "                                                     filter_value=180), axis=1))\n",
    "join_train_df['m_>360day_sum'], join_train_df['m_>360day_avg'], join_train_df['m_>360day_count']= zip(*join_train_df.apply(lambda x: compute(x['merchant_grouped'],date= merch_date, filter='date',\n",
    "                                                     filter_value=500), axis=1))\n",
    "join_train_df['m_authY_sum'],join_train_df['m_authY_avg'],join_train_df['m_authY_count'] = zip(*join_train_df.apply(lambda x: compute(x['merchant_grouped'], filter='flag', filter_value='Y'), axis=1))\n",
    "join_train_df['m_authN_sum'],join_train_df['m_authN_avg'],join_train_df['m_authN_count'] = zip(*join_train_df.apply(lambda x: compute(x['merchant_grouped'], filter='flag', filter_value='N'), axis=1))\n",
    "join_train_df['m_zero_install_sum'],join_train_df['m_zero_install_avg'],join_train_df['m_zero_install_count'] = zip(*join_train_df.apply(lambda x: compute(x['merchant_grouped'], filter='install', filter_value=['0']), axis=1))\n",
    "join_train_df['m_low_intall_sum'],join_train_df['m_low_intall_avg'],join_train_df['m_low_intall_count'] = zip(*join_train_df.apply(lambda x: compute(x['merchant_grouped'], filter='install', filter_value=['1','2','3']), axis=1))\n",
    "join_train_df['m_med_intall_sum'],join_train_df['m_med_intall_avg'],join_train_df['m_med_intall_count'] = zip(*join_train_df.apply(lambda x: compute(x['merchant_grouped'], filter='install', filter_value=['4','5','6']), axis=1))\n",
    "join_train_df['m_high_intall_sum'],join_train_df['m_high_intall_avg'],join_train_df['m_high_intall_count'] = zip(*join_train_df.apply(lambda x: compute(x['merchant_grouped'], filter='install', filter_value=['7','8','9']), axis=1))\n",
    "join_train_df['m_vhigh_intall_sum'],join_train_df['m_vhigh_intall_avg'],join_train_df['m_vhigh_intall_count'] = zip(*join_train_df.apply(lambda x: compute(x['merchant_grouped'], filter='install', filter_value=['10','11','12']), axis=1))\n",
    "join_train_df['m_cluster0_sum'],join_train_df['m_cluster0_avg'],join_train_df['m_cluster0_count'] = zip(*join_train_df.apply(lambda x: compute(x['merchant_grouped'], filter='cluster', filter_value='0'), axis=1))\n",
    "join_train_df['m_cluster1_sum'],join_train_df['m_cluster1_avg'],join_train_df['m_cluster1_count'] = zip(*join_train_df.apply(lambda x: compute(x['merchant_grouped'], filter='cluster', filter_value='1'), axis=1))\n",
    "join_train_df['m_cluster2_sum'],join_train_df['m_cluster2_avg'],join_train_df['m_cluster2_count'] = zip(*join_train_df.apply(lambda x: compute(x['merchant_grouped'], filter='cluster', filter_value='2'), axis=1))\n",
    "join_train_df['m_cluster3_sum'],join_train_df['m_cluster3_avg'],join_train_df['m_cluster3_count'] = zip(*join_train_df.apply(lambda x: compute(x['merchant_grouped'], filter='cluster', filter_value='3'), axis=1))\n",
    "join_train_df['m_cluster4_sum'],join_train_df['m_cluster4_avg'],join_train_df['m_cluster4_count'] = zip(*join_train_df.apply(lambda x: compute(x['merchant_grouped'], filter='cluster', filter_value='4'), axis=1))"
   ]
  },
  {
   "cell_type": "code",
   "execution_count": null,
   "metadata": {},
   "outputs": [],
   "source": [
    "join_test_df['m_30day_sum'], join_test_df['m_30day_avg'], join_test_df['m_30day_count']= zip(*join_test_df.apply(lambda x: compute(x['merchant_grouped'],date= merch_date, filter='date',\n",
    "                                                     filter_value=30), axis=1))\n",
    "join_test_df['m_60day_sum'], join_test_df['m_60day_avg'], join_test_df['m_60day_count']= zip(*join_test_df.apply(lambda x: compute(x['merchant_grouped'],date= merch_date, filter='date',\n",
    "                                                     filter_value=60), axis=1))\n",
    "join_test_df['m_90day_sum'], join_test_df['m_90day_avg'], join_test_df['m_90day_count']= zip(*join_test_df.apply(lambda x: compute(x['merchant_grouped'],date= merch_date, filter='date',\n",
    "                                                     filter_value=90), axis=1))\n",
    "join_test_df['m_180day_sum'], join_test_df['m_180day_avg'], join_test_df['m_180day_count']= zip(*join_test_df.apply(lambda x: compute(x['merchant_grouped'],date= merch_date, filter='date',\n",
    "                                                     filter_value=180), axis=1))\n",
    "join_test_df['m_>360day_sum'], join_test_df['m_>360day_avg'], join_test_df['m_>360day_count']= zip(*join_test_df.apply(lambda x: compute(x['merchant_grouped'],date= merch_date, filter='date',\n",
    "                                                     filter_value=500), axis=1))\n",
    "join_test_df['m_authY_sum'],join_test_df['m_authY_avg'],join_test_df['m_authY_count'] = zip(*join_test_df.apply(lambda x: compute(x['merchant_grouped'], filter='flag', filter_value='Y'), axis=1))\n",
    "join_test_df['m_authN_sum'],join_test_df['m_authN_avg'],join_test_df['m_authN_count'] = zip(*join_test_df.apply(lambda x: compute(x['merchant_grouped'], filter='flag', filter_value='N'), axis=1))\n",
    "join_test_df['m_zero_install_sum'],join_test_df['m_zero_install_avg'],join_test_df['m_zero_install_count'] = zip(*join_test_df.apply(lambda x: compute(x['merchant_grouped'], filter='install', filter_value=['0']), axis=1))\n",
    "join_test_df['m_low_intall_sum'],join_test_df['m_low_intall_avg'],join_test_df['m_low_intall_count'] = zip(*join_test_df.apply(lambda x: compute(x['merchant_grouped'], filter='install', filter_value=['1','2','3']), axis=1))\n",
    "join_test_df['m_med_intall_sum'],join_test_df['m_med_intall_avg'],join_test_df['m_med_intall_count'] = zip(*join_test_df.apply(lambda x: compute(x['merchant_grouped'], filter='install', filter_value=['4','5','6']), axis=1))\n",
    "join_test_df['m_high_intall_sum'],join_test_df['m_high_intall_avg'],join_test_df['m_high_intall_count'] = zip(*join_test_df.apply(lambda x: compute(x['merchant_grouped'], filter='install', filter_value=['7','8','9']), axis=1))\n",
    "join_test_df['m_vhigh_intall_sum'],join_test_df['m_vhigh_intall_avg'],join_test_df['m_vhigh_intall_count'] = zip(*join_test_df.apply(lambda x: compute(x['merchant_grouped'], filter='install', filter_value=['10','11','12']), axis=1))\n",
    "join_test_df['m_cluster0_sum'],join_test_df['m_cluster0_avg'],join_test_df['m_cluster0_count'] = zip(*join_test_df.apply(lambda x: compute(x['merchant_grouped'], filter='cluster', filter_value='0'), axis=1))\n",
    "join_test_df['m_cluster1_sum'],join_test_df['m_cluster1_avg'],join_test_df['m_cluster1_count'] = zip(*join_test_df.apply(lambda x: compute(x['merchant_grouped'], filter='cluster', filter_value='1'), axis=1))\n",
    "join_test_df['m_cluster2_sum'],join_test_df['m_cluster2_avg'],join_test_df['m_cluster2_count'] = zip(*join_test_df.apply(lambda x: compute(x['merchant_grouped'], filter='cluster', filter_value='2'), axis=1))\n",
    "join_test_df['m_cluster3_sum'],join_test_df['m_cluster3_avg'],join_test_df['m_cluster3_count'] = zip(*join_test_df.apply(lambda x: compute(x['merchant_grouped'], filter='cluster', filter_value='3'), axis=1))\n",
    "join_test_df['m_cluster4_sum'],join_test_df['m_cluster4_avg'],join_test_df['m_cluster4_count'] = zip(*join_test_df.apply(lambda x: compute(x['merchant_grouped'], filter='cluster', filter_value='4'), axis=1))"
   ]
  },
  {
   "cell_type": "code",
   "execution_count": null,
   "metadata": {},
   "outputs": [],
   "source": [
    "join_train_df.drop(columns=['feature_1', 'feature_2', 'feature_3', 'first_year',\n",
    "       'first_month'],inplace=True)\n",
    "join_test_df.drop(columns=['feature_1', 'feature_2', 'feature_3', 'first_year',\n",
    "       'first_month'],inplace=True)"
   ]
  },
  {
   "cell_type": "code",
   "execution_count": null,
   "metadata": {},
   "outputs": [],
   "source": [
    "train_df = train_df.merge(join_train_df,how='left',on='card_id')\n",
    "test_df = test_df.merge(join_test_df,how='left',on='card_id')"
   ]
  },
  {
   "cell_type": "code",
   "execution_count": 5,
   "metadata": {},
   "outputs": [],
   "source": [
    "# train_df.to_csv('final_train.csv',index=False)\n",
    "# test_df.to_csv('final_test.csv',index=False)\n",
    "train_df = pd.read_csv('final_train.csv')\n",
    "test_df = pd.read_csv('final_test.csv')"
   ]
  },
  {
   "cell_type": "code",
   "execution_count": 6,
   "metadata": {},
   "outputs": [
    {
     "name": "stdout",
     "output_type": "stream",
     "text": [
      "107\n"
     ]
    }
   ],
   "source": [
    "cols_to_use = [col for col in train_df.columns if col not in ['card_id','target']]\n",
    "print (len(cols_to_use))"
   ]
  },
  {
   "cell_type": "code",
   "execution_count": 7,
   "metadata": {},
   "outputs": [],
   "source": [
    "def run_lgb(train_X, train_y, val_X, val_y, test_X):\n",
    "    params = {\n",
    "        \"objective\" : \"regression\",\n",
    "        \"metric\" : \"rmse\",\n",
    "        \"num_leaves\" : 50,\n",
    "        \"min_child_weight\" : 75,\n",
    "        \"learning_rate\" : 0.05,\n",
    "        \"bagging_fraction\" : 0.7,\n",
    "        \"feature_fraction\" : 0.7,\n",
    "        \"bagging_frequency\" : 5,\n",
    "        \"bagging_seed\" : 2018,\n",
    "        \"verbosity\" : -1\n",
    "    }\n",
    "    \n",
    "    lgtrain = lgb.Dataset(train_X, label=train_y)\n",
    "    lgval = lgb.Dataset(val_X, label=val_y)\n",
    "    evals_result = {}\n",
    "    model = lgb.train(params, lgtrain, 1000, valid_sets=[lgval], early_stopping_rounds=100, verbose_eval=100, evals_result=evals_result)\n",
    "    \n",
    "    pred_test_y = model.predict(test_X, num_iteration=model.best_iteration)\n",
    "    return pred_test_y, model, evals_result"
   ]
  },
  {
   "cell_type": "code",
   "execution_count": 8,
   "metadata": {},
   "outputs": [
    {
     "name": "stdout",
     "output_type": "stream",
     "text": [
      "Training until validation scores don't improve for 100 rounds.\n",
      "[100]\tvalid_0's rmse: 3.73696\n",
      "[200]\tvalid_0's rmse: 3.7369\n",
      "Early stopping, best iteration is:\n",
      "[181]\tvalid_0's rmse: 3.73634\n",
      "Training until validation scores don't improve for 100 rounds.\n",
      "[100]\tvalid_0's rmse: 3.67757\n",
      "[200]\tvalid_0's rmse: 3.68034\n",
      "Early stopping, best iteration is:\n",
      "[102]\tvalid_0's rmse: 3.67737\n",
      "Training until validation scores don't improve for 100 rounds.\n",
      "[100]\tvalid_0's rmse: 3.71306\n",
      "[200]\tvalid_0's rmse: 3.71277\n",
      "Early stopping, best iteration is:\n",
      "[132]\tvalid_0's rmse: 3.71135\n",
      "Training until validation scores don't improve for 100 rounds.\n",
      "[100]\tvalid_0's rmse: 3.70651\n",
      "[200]\tvalid_0's rmse: 3.70456\n",
      "Early stopping, best iteration is:\n",
      "[185]\tvalid_0's rmse: 3.70425\n",
      "Training until validation scores don't improve for 100 rounds.\n",
      "[100]\tvalid_0's rmse: 3.77026\n",
      "[200]\tvalid_0's rmse: 3.77206\n",
      "Early stopping, best iteration is:\n",
      "[129]\tvalid_0's rmse: 3.76937\n"
     ]
    }
   ],
   "source": [
    "train_X = train_df[cols_to_use]\n",
    "test_X = test_df[cols_to_use]\n",
    "train_y = train_df['target'].values\n",
    "\n",
    "pred_test = 0\n",
    "kf = model_selection.KFold(n_splits=5, random_state=2018, shuffle=True)\n",
    "for dev_index, val_index in kf.split(train_df):\n",
    "    dev_X, val_X = train_X.loc[dev_index,:], train_X.loc[val_index,:]\n",
    "    dev_y, val_y = train_y[dev_index], train_y[val_index]\n",
    "    \n",
    "    pred_test_tmp, model, evals_result = run_lgb(dev_X, dev_y, val_X, val_y, test_X)\n",
    "    pred_test += pred_test_tmp\n",
    "pred_test /= 5."
   ]
  },
  {
   "cell_type": "code",
   "execution_count": 9,
   "metadata": {},
   "outputs": [
    {
     "data": {
      "image/png": "[encoded data removed]",
      "text/plain": [
       "<matplotlib.figure.Figure at 0x2488001aeb8>"
      ]
     },
     "metadata": {
      "needs_background": "light"
     },
     "output_type": "display_data"
    }
   ],
   "source": [
    "fig, ax = plt.subplots(figsize=(12,10))\n",
    "lgb.plot_importance(model, max_num_features=50, height=0.8, ax=ax)\n",
    "ax.grid(False)\n",
    "plt.title(\"LightGBM - Feature Importance\", fontsize=15)\n",
    "plt.show()"
   ]
  },
  {
   "cell_type": "code",
   "execution_count": 11,
   "metadata": {},
   "outputs": [],
   "source": [
    "sub_df = pd.DataFrame({\"card_id\":train_df[\"card_id\"].values})\n",
    "sub_df[\"target\"] = pred_test\n",
    "sub_df.to_csv(\"baseline_lgb.csv\", index=False)"
   ]
  }
 ],
 "metadata": {
  "kernelspec": {
   "display_name": "Python 3",
   "language": "python",
   "name": "python3"
  },
  "language_info": {
   "codemirror_mode": {
    "name": "ipython",
    "version": 3
   },
   "file_extension": ".py",
   "mimetype": "text/x-python",
   "name": "python",
   "nbconvert_exporter": "python",
   "pygments_lexer": "ipython3",
   "version": "3.6.4"
  }
 },
 "nbformat": 4,
 "nbformat_minor": 2
}
